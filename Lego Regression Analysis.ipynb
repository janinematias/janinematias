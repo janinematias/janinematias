{
 "cells": [
  {
   "cell_type": "markdown",
   "metadata": {
    "index": 0
   },
   "source": [
    "# LEGO Regression Project\n",
    "\n",
    "## Introduction \n",
    "\n",
    "In this notebook I will perform a simple linear regression analysis and report the findings of your model, including both predictive model performance metrics and interpretation of fitted model parameters.\n",
    "\n",
    "## Skills showcase\n",
    "\n",
    "* Write an SQL query to pull data from an SQL database\n",
    "* Use Python to clean, manipulate and visualise data\n",
    "* Perform a simple linear regression analysis \n",
    "* Evaluate the model and interpret its predictive performance metrics\n",
    "* Apply an inferential lens to interpret relationships between variables identified by the model"
   ]
  },
  {
   "cell_type": "markdown",
   "metadata": {
    "index": 1
   },
   "source": [
    "# Task: Develop a LEGO Pricing Algorithm\n",
    "\n",
    "![pile of legos](images/legos.jpg)\n",
    "\n",
    "Photo by <a href=\"https://unsplash.com/@xavi_cabrera?utm_source=unsplash&utm_medium=referral&utm_content=creditCopyText\">Xavi Cabrera</a> on <a href=\"/s/photos/lego?utm_source=unsplash&utm_medium=referral&utm_content=creditCopyText\">Unsplash</a>"
   ]
  },
  {
   "cell_type": "markdown",
   "metadata": {
    "index": 2
   },
   "source": [
    "## Business Understanding\n",
    "\n",
    "This project is going to be to develop a pricing algorithm in order to analyze the value of individual lego pieces.\n",
    "\n",
    "The primary purpose of this algorithm is *inferential*, meaning that **the model should be able to tell us something about the relationship betyouen the attributes of a LEGO set and its price**.\n",
    "\n",
    "\n",
    "## Data Understanding\n",
    "\n",
    "We have been given access to an sql database containing over 700 LEGO sets released in the past, including attributes of those sets as youll as their prices.\n",
    "\n",
    "\n",
    "## Loading the Data\n",
    "\n",
    "The database for this project is stored at the path `data/legos.db` in this project repository. The entity relational diagram (E.R.D) for the legos database is displayed below. \n",
    "\n",
    "To load in the data, you will need to complete the following tasks:\n",
    "- Open up a connection to the legos database\n",
    "- Write an sql query to join all three tables together\n",
    "- Run the sql query and load the joined tables into a pandas dataframe\n",
    "\n",
    "\n",
    "![Entity Relational Diagram](images/erd.png)"
   ]
  },
  {
   "cell_type": "code",
   "execution_count": 4,
   "metadata": {
    "index": 3
   },
   "outputs": [],
   "source": [
    "import sqlite3\n",
    "import pandas as pd\n",
    "import matplotlib.pyplot as plt\n",
    "%matplotlib inline"
   ]
  },
  {
   "cell_type": "code",
   "execution_count": 5,
   "metadata": {},
   "outputs": [
    {
     "name": "stdout",
     "output_type": "stream",
     "text": [
      "CONTRIBUTING.md  images       index.ipynb\t\tLICENSE.md\r\n",
      "data\t\t index_files  Lego_dataset_cleaned.csv\tREADME.md\r\n"
     ]
    }
   ],
   "source": [
    "!ls"
   ]
  },
  {
   "cell_type": "code",
   "execution_count": 6,
   "metadata": {
    "index": 5
   },
   "outputs": [],
   "source": [
    "conn = sqlite3.connect('data/legos.db')\n",
    "\n",
    "sql_query = \"\"\"\n",
    "SELECT *\n",
    "FROM product_info as p\n",
    "JOIN difficulty as d\n",
    "    ON d.`Prod Id` = p.`Prod Id`\n",
    "JOIN metrics as m\n",
    "    ON p.`Prod Id` = m.`Prod Id`\n",
    ";\"\"\"\n",
    "df = pd.read_sql(sql_query, conn)"
   ]
  },
  {
   "cell_type": "code",
   "execution_count": 7,
   "metadata": {},
   "outputs": [
    {
     "data": {
      "text/plain": [
       "Prod Id             744\n",
       "Set Name            734\n",
       "Prod Desc           724\n",
       "Theme Name           39\n",
       "Piece Count         445\n",
       "Prod Id             744\n",
       "Min Age              13\n",
       "Max Age               9\n",
       "Difficulty Level      5\n",
       "Prod Id             744\n",
       "Num Reviews          82\n",
       "Star Rating          27\n",
       "List Price           68\n",
       "dtype: int64"
      ]
     },
     "execution_count": 7,
     "metadata": {},
     "output_type": "execute_result"
    }
   ],
   "source": [
    "df.nunique()"
   ]
  },
  {
   "cell_type": "markdown",
   "metadata": {
    "index": 7
   },
   "source": [
    "## Analysis Requirements\n",
    "\n",
    "### 1. Data Exploration and Cleaning\n",
    "\n",
    "During the data exploration phase, the datatypes of columns should be checked, the distribution of the target variable should be inspected, null values should be either removed or replaced, and duplicates (in most cases) should be dropped. \n",
    "\n",
    "### 2. Create a Baseline Model\n",
    "\n",
    "In order to evaluate how youll a simple linear regression model is understanding the dependent variable, you will begin by first creating a model that predicts the mean of the dependent variable for every observation. Predicting the mean of `list_price` can be considered a highly naive model. If our simple linear regression model performs worse than this naive approach, you can safely say that it is not a very good model. \n",
    "\n",
    "### 3. Interpret a Correlation Heatmap\n",
    "\n",
    "To develop a simple linear regression model, you will identify the independent variable that is most correlated with our dependent variable. To do this this you will plot a correlation heatmap to identify the variable most correlated with `list_price`.\n",
    "\n",
    "### 4. Build a Simple Linear Regression Model\n",
    "\n",
    "Now, create a linear regression model using the `statsmodels` library where the most correlated feature is used as the independent variable and the dependent variable is properly set. \n",
    "\n",
    "### 5. Interpret the Simple Linear Regression Model\n",
    "\n",
    "Once the model has been fit, the coefficient for our independent variable, its p-value, and the coefficient confidence interval should be interpeted. You should ask ourselves whether or not the relationship your model is finding seems plausible. \n",
    "\n",
    "### 6. Evaluate the Simple Linear Regression Model\n",
    "\n",
    "Before you can make a final assessment of our model, you need to compare its metrics with the baseline model created in step one, and you need to check the assumptions of linear regression.\n"
   ]
  },
  {
   "cell_type": "markdown",
   "metadata": {
    "index": 8
   },
   "source": [
    "# 1. Data Exploration and Cleaning\n",
    "\n",
    "During the data exploration phase, the datatypes of columns should be checked, the distribution of the target variable should be inspected, null values should be either removed or replaced, and duplicates (in most cases) should be dropped. "
   ]
  },
  {
   "cell_type": "code",
   "execution_count": 8,
   "metadata": {
    "index": 9
   },
   "outputs": [
    {
     "data": {
      "text/html": [
       "<div>\n",
       "<style scoped>\n",
       "    .dataframe tbody tr th:only-of-type {\n",
       "        vertical-align: middle;\n",
       "    }\n",
       "\n",
       "    .dataframe tbody tr th {\n",
       "        vertical-align: top;\n",
       "    }\n",
       "\n",
       "    .dataframe thead th {\n",
       "        text-align: right;\n",
       "    }\n",
       "</style>\n",
       "<table border=\"1\" class=\"dataframe\">\n",
       "  <thead>\n",
       "    <tr style=\"text-align: right;\">\n",
       "      <th></th>\n",
       "      <th>Prod Id</th>\n",
       "      <th>Set Name</th>\n",
       "      <th>Prod Desc</th>\n",
       "      <th>Theme Name</th>\n",
       "      <th>Piece Count</th>\n",
       "      <th>Prod Id</th>\n",
       "      <th>Min Age</th>\n",
       "      <th>Max Age</th>\n",
       "      <th>Difficulty Level</th>\n",
       "      <th>Prod Id</th>\n",
       "      <th>Num Reviews</th>\n",
       "      <th>Star Rating</th>\n",
       "      <th>List Price</th>\n",
       "    </tr>\n",
       "  </thead>\n",
       "  <tbody>\n",
       "    <tr>\n",
       "      <th>0</th>\n",
       "      <td>60123</td>\n",
       "      <td>Volcano Supply Helicopter</td>\n",
       "      <td>Fly in the exploration gear and fly out the cr...</td>\n",
       "      <td>City</td>\n",
       "      <td>330</td>\n",
       "      <td>60123</td>\n",
       "      <td>7.0</td>\n",
       "      <td>12.0</td>\n",
       "      <td>1</td>\n",
       "      <td>60123</td>\n",
       "      <td>3.0</td>\n",
       "      <td>4.3</td>\n",
       "      <td>$49.99</td>\n",
       "    </tr>\n",
       "    <tr>\n",
       "      <th>1</th>\n",
       "      <td>71246</td>\n",
       "      <td>Adventure Time™ Team Pack</td>\n",
       "      <td>Explore the Land of Ooo with Jake and Lumpy Sp...</td>\n",
       "      <td>DIMENSIONS™</td>\n",
       "      <td>96</td>\n",
       "      <td>71246</td>\n",
       "      <td>7.0</td>\n",
       "      <td>14.0</td>\n",
       "      <td>1</td>\n",
       "      <td>71246</td>\n",
       "      <td>3.0</td>\n",
       "      <td>4.7</td>\n",
       "      <td>$30.362</td>\n",
       "    </tr>\n",
       "    <tr>\n",
       "      <th>2</th>\n",
       "      <td>10616</td>\n",
       "      <td>My First Playhouse</td>\n",
       "      <td>Learn about daily routines with this easy-to-b...</td>\n",
       "      <td>DUPLO®</td>\n",
       "      <td>25</td>\n",
       "      <td>10616</td>\n",
       "      <td>1.5</td>\n",
       "      <td>5.0</td>\n",
       "      <td>1</td>\n",
       "      <td>10616</td>\n",
       "      <td>3.0</td>\n",
       "      <td>5.0</td>\n",
       "      <td>$19.99</td>\n",
       "    </tr>\n",
       "    <tr>\n",
       "      <th>3</th>\n",
       "      <td>31079</td>\n",
       "      <td>Sunshine Surfer Van</td>\n",
       "      <td>Enjoy seaside fun with the 3-in-1 Sunshine Sur...</td>\n",
       "      <td>Creator 3-in-1</td>\n",
       "      <td>379</td>\n",
       "      <td>31079</td>\n",
       "      <td>8.0</td>\n",
       "      <td>12.0</td>\n",
       "      <td>1</td>\n",
       "      <td>31079</td>\n",
       "      <td>5.0</td>\n",
       "      <td>4.4</td>\n",
       "      <td>$34.99</td>\n",
       "    </tr>\n",
       "    <tr>\n",
       "      <th>4</th>\n",
       "      <td>42057</td>\n",
       "      <td>Ultralight Helicopter</td>\n",
       "      <td>Take to the skies with the Ultralight Helicopter!</td>\n",
       "      <td>Technic</td>\n",
       "      <td>199</td>\n",
       "      <td>42057</td>\n",
       "      <td>8.0</td>\n",
       "      <td>14.0</td>\n",
       "      <td>1</td>\n",
       "      <td>42057</td>\n",
       "      <td>9.0</td>\n",
       "      <td>4.7</td>\n",
       "      <td>$19.99</td>\n",
       "    </tr>\n",
       "  </tbody>\n",
       "</table>\n",
       "</div>"
      ],
      "text/plain": [
       "   Prod Id                   Set Name  \\\n",
       "0    60123  Volcano Supply Helicopter   \n",
       "1    71246  Adventure Time™ Team Pack   \n",
       "2    10616         My First Playhouse   \n",
       "3    31079        Sunshine Surfer Van   \n",
       "4    42057      Ultralight Helicopter   \n",
       "\n",
       "                                           Prod Desc      Theme Name  \\\n",
       "0  Fly in the exploration gear and fly out the cr...            City   \n",
       "1  Explore the Land of Ooo with Jake and Lumpy Sp...     DIMENSIONS™   \n",
       "2  Learn about daily routines with this easy-to-b...          DUPLO®   \n",
       "3  Enjoy seaside fun with the 3-in-1 Sunshine Sur...  Creator 3-in-1   \n",
       "4  Take to the skies with the Ultralight Helicopter!         Technic   \n",
       "\n",
       "   Piece Count  Prod Id  Min Age  Max Age  Difficulty Level  Prod Id  \\\n",
       "0          330    60123      7.0     12.0                 1    60123   \n",
       "1           96    71246      7.0     14.0                 1    71246   \n",
       "2           25    10616      1.5      5.0                 1    10616   \n",
       "3          379    31079      8.0     12.0                 1    31079   \n",
       "4          199    42057      8.0     14.0                 1    42057   \n",
       "\n",
       "   Num Reviews  Star Rating List Price  \n",
       "0          3.0          4.3     $49.99  \n",
       "1          3.0          4.7    $30.362  \n",
       "2          3.0          5.0     $19.99  \n",
       "3          5.0          4.4     $34.99  \n",
       "4          9.0          4.7     $19.99  "
      ]
     },
     "execution_count": 8,
     "metadata": {},
     "output_type": "execute_result"
    }
   ],
   "source": [
    "df.head()"
   ]
  },
  {
   "cell_type": "markdown",
   "metadata": {
    "index": 11
   },
   "source": [
    "\n"
   ]
  },
  {
   "cell_type": "markdown",
   "metadata": {
    "index": 12
   },
   "source": [
    "Produce high-level descriptive information about your training data"
   ]
  },
  {
   "cell_type": "code",
   "execution_count": 9,
   "metadata": {
    "index": 13
   },
   "outputs": [
    {
     "data": {
      "text/html": [
       "<div>\n",
       "<style scoped>\n",
       "    .dataframe tbody tr th:only-of-type {\n",
       "        vertical-align: middle;\n",
       "    }\n",
       "\n",
       "    .dataframe tbody tr th {\n",
       "        vertical-align: top;\n",
       "    }\n",
       "\n",
       "    .dataframe thead th {\n",
       "        text-align: right;\n",
       "    }\n",
       "</style>\n",
       "<table border=\"1\" class=\"dataframe\">\n",
       "  <thead>\n",
       "    <tr style=\"text-align: right;\">\n",
       "      <th></th>\n",
       "      <th>Prod Id</th>\n",
       "      <th>Piece Count</th>\n",
       "      <th>Prod Id</th>\n",
       "      <th>Min Age</th>\n",
       "      <th>Max Age</th>\n",
       "      <th>Difficulty Level</th>\n",
       "      <th>Prod Id</th>\n",
       "      <th>Num Reviews</th>\n",
       "      <th>Star Rating</th>\n",
       "    </tr>\n",
       "  </thead>\n",
       "  <tbody>\n",
       "    <tr>\n",
       "      <th>count</th>\n",
       "      <td>8.840000e+02</td>\n",
       "      <td>884.000000</td>\n",
       "      <td>8.840000e+02</td>\n",
       "      <td>884.000000</td>\n",
       "      <td>884.000000</td>\n",
       "      <td>884.000000</td>\n",
       "      <td>8.840000e+02</td>\n",
       "      <td>781.000000</td>\n",
       "      <td>781.000000</td>\n",
       "    </tr>\n",
       "    <tr>\n",
       "      <th>mean</th>\n",
       "      <td>5.821184e+04</td>\n",
       "      <td>460.990950</td>\n",
       "      <td>5.821184e+04</td>\n",
       "      <td>6.781674</td>\n",
       "      <td>27.785068</td>\n",
       "      <td>1.483032</td>\n",
       "      <td>5.821184e+04</td>\n",
       "      <td>17.610755</td>\n",
       "      <td>4.430602</td>\n",
       "    </tr>\n",
       "    <tr>\n",
       "      <th>std</th>\n",
       "      <td>1.388029e+05</td>\n",
       "      <td>928.905788</td>\n",
       "      <td>1.388029e+05</td>\n",
       "      <td>2.984551</td>\n",
       "      <td>34.019566</td>\n",
       "      <td>0.796898</td>\n",
       "      <td>1.388029e+05</td>\n",
       "      <td>38.143280</td>\n",
       "      <td>0.592083</td>\n",
       "    </tr>\n",
       "    <tr>\n",
       "      <th>min</th>\n",
       "      <td>6.300000e+02</td>\n",
       "      <td>1.000000</td>\n",
       "      <td>6.300000e+02</td>\n",
       "      <td>1.500000</td>\n",
       "      <td>3.000000</td>\n",
       "      <td>0.000000</td>\n",
       "      <td>6.300000e+02</td>\n",
       "      <td>1.000000</td>\n",
       "      <td>1.800000</td>\n",
       "    </tr>\n",
       "    <tr>\n",
       "      <th>25%</th>\n",
       "      <td>2.113875e+04</td>\n",
       "      <td>88.750000</td>\n",
       "      <td>2.113875e+04</td>\n",
       "      <td>5.000000</td>\n",
       "      <td>12.000000</td>\n",
       "      <td>1.000000</td>\n",
       "      <td>2.113875e+04</td>\n",
       "      <td>2.000000</td>\n",
       "      <td>4.100000</td>\n",
       "    </tr>\n",
       "    <tr>\n",
       "      <th>50%</th>\n",
       "      <td>4.550550e+04</td>\n",
       "      <td>185.500000</td>\n",
       "      <td>4.550550e+04</td>\n",
       "      <td>7.000000</td>\n",
       "      <td>14.000000</td>\n",
       "      <td>2.000000</td>\n",
       "      <td>4.550550e+04</td>\n",
       "      <td>6.000000</td>\n",
       "      <td>4.600000</td>\n",
       "    </tr>\n",
       "    <tr>\n",
       "      <th>75%</th>\n",
       "      <td>7.122825e+04</td>\n",
       "      <td>457.750000</td>\n",
       "      <td>7.122825e+04</td>\n",
       "      <td>8.000000</td>\n",
       "      <td>14.000000</td>\n",
       "      <td>2.000000</td>\n",
       "      <td>7.122825e+04</td>\n",
       "      <td>13.000000</td>\n",
       "      <td>4.900000</td>\n",
       "    </tr>\n",
       "    <tr>\n",
       "      <th>max</th>\n",
       "      <td>2.000431e+06</td>\n",
       "      <td>7541.000000</td>\n",
       "      <td>2.000431e+06</td>\n",
       "      <td>16.000000</td>\n",
       "      <td>99.000000</td>\n",
       "      <td>4.000000</td>\n",
       "      <td>2.000431e+06</td>\n",
       "      <td>367.000000</td>\n",
       "      <td>5.000000</td>\n",
       "    </tr>\n",
       "  </tbody>\n",
       "</table>\n",
       "</div>"
      ],
      "text/plain": [
       "            Prod Id  Piece Count       Prod Id     Min Age     Max Age  \\\n",
       "count  8.840000e+02   884.000000  8.840000e+02  884.000000  884.000000   \n",
       "mean   5.821184e+04   460.990950  5.821184e+04    6.781674   27.785068   \n",
       "std    1.388029e+05   928.905788  1.388029e+05    2.984551   34.019566   \n",
       "min    6.300000e+02     1.000000  6.300000e+02    1.500000    3.000000   \n",
       "25%    2.113875e+04    88.750000  2.113875e+04    5.000000   12.000000   \n",
       "50%    4.550550e+04   185.500000  4.550550e+04    7.000000   14.000000   \n",
       "75%    7.122825e+04   457.750000  7.122825e+04    8.000000   14.000000   \n",
       "max    2.000431e+06  7541.000000  2.000431e+06   16.000000   99.000000   \n",
       "\n",
       "       Difficulty Level       Prod Id  Num Reviews  Star Rating  \n",
       "count        884.000000  8.840000e+02   781.000000   781.000000  \n",
       "mean           1.483032  5.821184e+04    17.610755     4.430602  \n",
       "std            0.796898  1.388029e+05    38.143280     0.592083  \n",
       "min            0.000000  6.300000e+02     1.000000     1.800000  \n",
       "25%            1.000000  2.113875e+04     2.000000     4.100000  \n",
       "50%            2.000000  4.550550e+04     6.000000     4.600000  \n",
       "75%            2.000000  7.122825e+04    13.000000     4.900000  \n",
       "max            4.000000  2.000431e+06   367.000000     5.000000  "
      ]
     },
     "execution_count": 9,
     "metadata": {},
     "output_type": "execute_result"
    }
   ],
   "source": [
    "df.describe()"
   ]
  },
  {
   "cell_type": "code",
   "execution_count": 10,
   "metadata": {},
   "outputs": [
    {
     "name": "stdout",
     "output_type": "stream",
     "text": [
      "<class 'pandas.core.frame.DataFrame'>\n",
      "RangeIndex: 884 entries, 0 to 883\n",
      "Data columns (total 13 columns):\n",
      " #   Column            Non-Null Count  Dtype  \n",
      "---  ------            --------------  -----  \n",
      " 0   Prod Id           884 non-null    int64  \n",
      " 1   Set Name          884 non-null    object \n",
      " 2   Prod Desc         864 non-null    object \n",
      " 3   Theme Name        884 non-null    object \n",
      " 4   Piece Count       884 non-null    int64  \n",
      " 5   Prod Id           884 non-null    int64  \n",
      " 6   Min Age           884 non-null    float64\n",
      " 7   Max Age           884 non-null    float64\n",
      " 8   Difficulty Level  884 non-null    int64  \n",
      " 9   Prod Id           884 non-null    int64  \n",
      " 10  Num Reviews       781 non-null    float64\n",
      " 11  Star Rating       781 non-null    float64\n",
      " 12  List Price        844 non-null    object \n",
      "dtypes: float64(4), int64(5), object(4)\n",
      "memory usage: 89.9+ KB\n"
     ]
    }
   ],
   "source": [
    "df.info()"
   ]
  },
  {
   "cell_type": "markdown",
   "metadata": {
    "index": 15
   },
   "source": [
    "Display the number of null values for each column"
   ]
  },
  {
   "cell_type": "code",
   "execution_count": 11,
   "metadata": {
    "index": 16
   },
   "outputs": [
    {
     "data": {
      "text/plain": [
       "Prod Id               0\n",
       "Set Name              0\n",
       "Prod Desc            20\n",
       "Theme Name            0\n",
       "Piece Count           0\n",
       "Prod Id               0\n",
       "Min Age               0\n",
       "Max Age               0\n",
       "Difficulty Level      0\n",
       "Prod Id               0\n",
       "Num Reviews         103\n",
       "Star Rating         103\n",
       "List Price           40\n",
       "dtype: int64"
      ]
     },
     "execution_count": 11,
     "metadata": {},
     "output_type": "execute_result"
    }
   ],
   "source": [
    "df.isna().sum()"
   ]
  },
  {
   "cell_type": "markdown",
   "metadata": {
    "index": 18
   },
   "source": [
    "You have four columns that contain null values. Of those four, `List Price`, which is your dependent variable, is probably the most concerning. \n",
    "\n",
    "In the cell below, drop all rows where `List Price` is null."
   ]
  },
  {
   "cell_type": "code",
   "execution_count": 12,
   "metadata": {
    "index": 19
   },
   "outputs": [],
   "source": [
    "df = df.dropna(subset=['List Price'])"
   ]
  },
  {
   "cell_type": "code",
   "execution_count": 13,
   "metadata": {},
   "outputs": [
    {
     "data": {
      "text/plain": [
       "Prod Id              0\n",
       "Set Name             0\n",
       "Prod Desc           20\n",
       "Theme Name           0\n",
       "Piece Count          0\n",
       "Prod Id              0\n",
       "Min Age              0\n",
       "Max Age              0\n",
       "Difficulty Level     0\n",
       "Prod Id              0\n",
       "Num Reviews         95\n",
       "Star Rating         95\n",
       "List Price           0\n",
       "dtype: int64"
      ]
     },
     "execution_count": 13,
     "metadata": {},
     "output_type": "execute_result"
    }
   ],
   "source": [
    "df.isna().sum()"
   ]
  },
  {
   "cell_type": "markdown",
   "metadata": {
    "index": 21
   },
   "source": [
    "Reformat the column names so spaces have been replaced with underscores and the text has been lowered"
   ]
  },
  {
   "cell_type": "code",
   "execution_count": 14,
   "metadata": {
    "index": 22
   },
   "outputs": [],
   "source": [
    "mycolnames = []\n",
    "for col in df.columns:\n",
    "    mycolnames.append(col.lower().replace(\" \", \"_\"))\n",
    "    \n",
    "df = df.rename(columns= dict(zip(df.columns, mycolnames,)))"
   ]
  },
  {
   "cell_type": "code",
   "execution_count": 15,
   "metadata": {},
   "outputs": [
    {
     "data": {
      "text/plain": [
       "Index(['prod_id', 'set_name', 'prod_desc', 'theme_name', 'piece_count',\n",
       "       'prod_id', 'min_age', 'max_age', 'difficulty_level', 'prod_id',\n",
       "       'num_reviews', 'star_rating', 'list_price'],\n",
       "      dtype='object')"
      ]
     },
     "execution_count": 15,
     "metadata": {},
     "output_type": "execute_result"
    }
   ],
   "source": [
    "df.columns"
   ]
  },
  {
   "cell_type": "markdown",
   "metadata": {
    "index": 24
   },
   "source": [
    "Check if we run the code correctly by assert check."
   ]
  },
  {
   "cell_type": "code",
   "execution_count": 16,
   "metadata": {
    "index": 25
   },
   "outputs": [],
   "source": [
    "assert 'min_age' in df.columns"
   ]
  },
  {
   "cell_type": "markdown",
   "metadata": {
    "index": 26
   },
   "source": [
    "Check the datatypes of the columns in the dataframe. \n",
    "> Remember, the target column and any columns you use as independent variables *must* have a numeric datatype. After inspecting the datatypes of the columns, convert columns to numeric where necessary. "
   ]
  },
  {
   "cell_type": "code",
   "execution_count": 17,
   "metadata": {
    "index": 27
   },
   "outputs": [
    {
     "name": "stdout",
     "output_type": "stream",
     "text": [
      "<class 'pandas.core.frame.DataFrame'>\n",
      "Int64Index: 844 entries, 0 to 881\n",
      "Data columns (total 13 columns):\n",
      " #   Column            Non-Null Count  Dtype  \n",
      "---  ------            --------------  -----  \n",
      " 0   prod_id           844 non-null    int64  \n",
      " 1   set_name          844 non-null    object \n",
      " 2   prod_desc         824 non-null    object \n",
      " 3   theme_name        844 non-null    object \n",
      " 4   piece_count       844 non-null    int64  \n",
      " 5   prod_id           844 non-null    int64  \n",
      " 6   min_age           844 non-null    float64\n",
      " 7   max_age           844 non-null    float64\n",
      " 8   difficulty_level  844 non-null    int64  \n",
      " 9   prod_id           844 non-null    int64  \n",
      " 10  num_reviews       749 non-null    float64\n",
      " 11  star_rating       749 non-null    float64\n",
      " 12  list_price        844 non-null    object \n",
      "dtypes: float64(4), int64(5), object(4)\n",
      "memory usage: 92.3+ KB\n"
     ]
    }
   ],
   "source": [
    "df.info()"
   ]
  },
  {
   "cell_type": "code",
   "execution_count": 18,
   "metadata": {},
   "outputs": [
    {
     "name": "stderr",
     "output_type": "stream",
     "text": [
      "/tmp/ipykernel_66/2178616088.py:1: FutureWarning: The default value of regex will change from True to False in a future version.\n",
      "  df['list_price'] = pd.to_numeric(df['list_price'].str.replace('[^.0-9]', ''))\n"
     ]
    }
   ],
   "source": [
    "df['list_price'] = pd.to_numeric(df['list_price'].str.replace('[^.0-9]', ''))"
   ]
  },
  {
   "cell_type": "code",
   "execution_count": 19,
   "metadata": {},
   "outputs": [
    {
     "data": {
      "text/html": [
       "<div>\n",
       "<style scoped>\n",
       "    .dataframe tbody tr th:only-of-type {\n",
       "        vertical-align: middle;\n",
       "    }\n",
       "\n",
       "    .dataframe tbody tr th {\n",
       "        vertical-align: top;\n",
       "    }\n",
       "\n",
       "    .dataframe thead th {\n",
       "        text-align: right;\n",
       "    }\n",
       "</style>\n",
       "<table border=\"1\" class=\"dataframe\">\n",
       "  <thead>\n",
       "    <tr style=\"text-align: right;\">\n",
       "      <th></th>\n",
       "      <th>prod_id</th>\n",
       "      <th>set_name</th>\n",
       "      <th>prod_desc</th>\n",
       "      <th>theme_name</th>\n",
       "      <th>piece_count</th>\n",
       "      <th>prod_id</th>\n",
       "      <th>min_age</th>\n",
       "      <th>max_age</th>\n",
       "      <th>difficulty_level</th>\n",
       "      <th>prod_id</th>\n",
       "      <th>num_reviews</th>\n",
       "      <th>star_rating</th>\n",
       "      <th>list_price</th>\n",
       "    </tr>\n",
       "  </thead>\n",
       "  <tbody>\n",
       "    <tr>\n",
       "      <th>0</th>\n",
       "      <td>60123</td>\n",
       "      <td>Volcano Supply Helicopter</td>\n",
       "      <td>Fly in the exploration gear and fly out the cr...</td>\n",
       "      <td>City</td>\n",
       "      <td>330</td>\n",
       "      <td>60123</td>\n",
       "      <td>7.0</td>\n",
       "      <td>12.0</td>\n",
       "      <td>1</td>\n",
       "      <td>60123</td>\n",
       "      <td>3.0</td>\n",
       "      <td>4.3</td>\n",
       "      <td>49.990</td>\n",
       "    </tr>\n",
       "    <tr>\n",
       "      <th>1</th>\n",
       "      <td>71246</td>\n",
       "      <td>Adventure Time™ Team Pack</td>\n",
       "      <td>Explore the Land of Ooo with Jake and Lumpy Sp...</td>\n",
       "      <td>DIMENSIONS™</td>\n",
       "      <td>96</td>\n",
       "      <td>71246</td>\n",
       "      <td>7.0</td>\n",
       "      <td>14.0</td>\n",
       "      <td>1</td>\n",
       "      <td>71246</td>\n",
       "      <td>3.0</td>\n",
       "      <td>4.7</td>\n",
       "      <td>30.362</td>\n",
       "    </tr>\n",
       "    <tr>\n",
       "      <th>2</th>\n",
       "      <td>10616</td>\n",
       "      <td>My First Playhouse</td>\n",
       "      <td>Learn about daily routines with this easy-to-b...</td>\n",
       "      <td>DUPLO®</td>\n",
       "      <td>25</td>\n",
       "      <td>10616</td>\n",
       "      <td>1.5</td>\n",
       "      <td>5.0</td>\n",
       "      <td>1</td>\n",
       "      <td>10616</td>\n",
       "      <td>3.0</td>\n",
       "      <td>5.0</td>\n",
       "      <td>19.990</td>\n",
       "    </tr>\n",
       "    <tr>\n",
       "      <th>3</th>\n",
       "      <td>31079</td>\n",
       "      <td>Sunshine Surfer Van</td>\n",
       "      <td>Enjoy seaside fun with the 3-in-1 Sunshine Sur...</td>\n",
       "      <td>Creator 3-in-1</td>\n",
       "      <td>379</td>\n",
       "      <td>31079</td>\n",
       "      <td>8.0</td>\n",
       "      <td>12.0</td>\n",
       "      <td>1</td>\n",
       "      <td>31079</td>\n",
       "      <td>5.0</td>\n",
       "      <td>4.4</td>\n",
       "      <td>34.990</td>\n",
       "    </tr>\n",
       "    <tr>\n",
       "      <th>4</th>\n",
       "      <td>42057</td>\n",
       "      <td>Ultralight Helicopter</td>\n",
       "      <td>Take to the skies with the Ultralight Helicopter!</td>\n",
       "      <td>Technic</td>\n",
       "      <td>199</td>\n",
       "      <td>42057</td>\n",
       "      <td>8.0</td>\n",
       "      <td>14.0</td>\n",
       "      <td>1</td>\n",
       "      <td>42057</td>\n",
       "      <td>9.0</td>\n",
       "      <td>4.7</td>\n",
       "      <td>19.990</td>\n",
       "    </tr>\n",
       "  </tbody>\n",
       "</table>\n",
       "</div>"
      ],
      "text/plain": [
       "   prod_id                   set_name  \\\n",
       "0    60123  Volcano Supply Helicopter   \n",
       "1    71246  Adventure Time™ Team Pack   \n",
       "2    10616         My First Playhouse   \n",
       "3    31079        Sunshine Surfer Van   \n",
       "4    42057      Ultralight Helicopter   \n",
       "\n",
       "                                           prod_desc      theme_name  \\\n",
       "0  Fly in the exploration gear and fly out the cr...            City   \n",
       "1  Explore the Land of Ooo with Jake and Lumpy Sp...     DIMENSIONS™   \n",
       "2  Learn about daily routines with this easy-to-b...          DUPLO®   \n",
       "3  Enjoy seaside fun with the 3-in-1 Sunshine Sur...  Creator 3-in-1   \n",
       "4  Take to the skies with the Ultralight Helicopter!         Technic   \n",
       "\n",
       "   piece_count  prod_id  min_age  max_age  difficulty_level  prod_id  \\\n",
       "0          330    60123      7.0     12.0                 1    60123   \n",
       "1           96    71246      7.0     14.0                 1    71246   \n",
       "2           25    10616      1.5      5.0                 1    10616   \n",
       "3          379    31079      8.0     12.0                 1    31079   \n",
       "4          199    42057      8.0     14.0                 1    42057   \n",
       "\n",
       "   num_reviews  star_rating  list_price  \n",
       "0          3.0          4.3      49.990  \n",
       "1          3.0          4.7      30.362  \n",
       "2          3.0          5.0      19.990  \n",
       "3          5.0          4.4      34.990  \n",
       "4          9.0          4.7      19.990  "
      ]
     },
     "execution_count": 19,
     "metadata": {},
     "output_type": "execute_result"
    }
   ],
   "source": [
    "df.head()"
   ]
  },
  {
   "cell_type": "markdown",
   "metadata": {
    "index": 29
   },
   "source": [
    "In the cell below, output the number of duplicate rows in the dataframe. If duplicates are found, drop them."
   ]
  },
  {
   "cell_type": "code",
   "execution_count": 20,
   "metadata": {
    "index": 30
   },
   "outputs": [
    {
     "data": {
      "text/plain": [
       "100"
      ]
     },
     "execution_count": 20,
     "metadata": {},
     "output_type": "execute_result"
    }
   ],
   "source": [
    "df.duplicated().sum()"
   ]
  },
  {
   "cell_type": "code",
   "execution_count": 21,
   "metadata": {},
   "outputs": [],
   "source": [
    "df = df.drop_duplicates()"
   ]
  },
  {
   "cell_type": "code",
   "execution_count": 22,
   "metadata": {},
   "outputs": [],
   "source": [
    "df = df.loc[:,~df.columns.duplicated()]"
   ]
  },
  {
   "cell_type": "markdown",
   "metadata": {
    "index": 32
   },
   "source": [
    "Visualize the distribution of the dependent variable"
   ]
  },
  {
   "cell_type": "code",
   "execution_count": 23,
   "metadata": {
    "index": 33
   },
   "outputs": [
    {
     "data": {
      "image/png": "[encoded data removed]",
      "text/plain": [
       "<Figure size 1296x576 with 1 Axes>"
      ]
     },
     "metadata": {
      "needs_background": "light"
     },
     "output_type": "display_data"
    }
   ],
   "source": [
    "fig, ax = plt.subplots(figsize = (18,8))\n",
    "df.list_price.plot.hist(density = True, label='List Price histogram', bins=100)\n",
    "df.list_price.plot.kde(label='List Price kde')\n",
    "ax.set_xlabel(\"List Price\")\n",
    "ax.set_ylabel(\"Lego sets\")\n",
    "ax.legend();"
   ]
  },
  {
   "cell_type": "code",
   "execution_count": 21,
   "metadata": {},
   "outputs": [
    {
     "data": {
      "text/plain": [
       "count    744.000000\n",
       "mean      49.000582\n",
       "std       73.651661\n",
       "min        2.490000\n",
       "25%       14.990000\n",
       "50%       29.990000\n",
       "75%       49.990000\n",
       "max      799.990000\n",
       "Name: list_price, dtype: float64"
      ]
     },
     "execution_count": 21,
     "metadata": {},
     "output_type": "execute_result"
    }
   ],
   "source": [
    "df.list_price.describe()"
   ]
  },
  {
   "cell_type": "markdown",
   "metadata": {
    "index": 35
   },
   "source": [
    "# Create a Baseline Model\n",
    "\n",
    "Creating a baseline model. \n",
    "\n",
    "\n",
    "1. Calculate the mean of the `list_price` column in the `train` dataframe.\n",
    "2. Now that you've calculate the mean of `list_price`, create a list with the same length as the `list_price` column where every value in the list is the calculated mean.\n",
    "    - Store this list in the variable `baseline_preds`."
   ]
  },
  {
   "cell_type": "code",
   "execution_count": 22,
   "metadata": {},
   "outputs": [],
   "source": [
    "from sklearn.model_selection import train_test_split\n",
    "\n",
    "train, test = train_test_split(df, test_size=0.2)"
   ]
  },
  {
   "cell_type": "code",
   "execution_count": 23,
   "metadata": {},
   "outputs": [
    {
     "data": {
      "text/plain": [
       "48.6109317647064"
      ]
     },
     "execution_count": 23,
     "metadata": {},
     "output_type": "execute_result"
    }
   ],
   "source": [
    "train.list_price.mean()"
   ]
  },
  {
   "cell_type": "code",
   "execution_count": 26,
   "metadata": {
    "index": 36
   },
   "outputs": [],
   "source": [
    "# Calculate the mean of the list_price column in the train dataframe.\n",
    "mean = train.list_price.mean()\n",
    "\n",
    "# Create a list with the same length as the list_price column \n",
    "# where every value in the list is the calculated mean.\n",
    "\n",
    "baseline_preds = []\n",
    "for price in train.list_price:\n",
    "    baseline_preds.append(mean)"
   ]
  },
  {
   "cell_type": "code",
   "execution_count": 27,
   "metadata": {},
   "outputs": [
    {
     "name": "stdout",
     "output_type": "stream",
     "text": [
      "595\n",
      "595\n"
     ]
    }
   ],
   "source": [
    "print(len(baseline_preds))\n",
    "print(len(train.list_price))"
   ]
  },
  {
   "cell_type": "code",
   "execution_count": 28,
   "metadata": {
    "index": 39
   },
   "outputs": [
    {
     "name": "stdout",
     "output_type": "stream",
     "text": [
      "Baseline R^2:  0.0\n",
      "Baseline RMSE: 72.84078918829029\n"
     ]
    }
   ],
   "source": [
    "from sklearn.metrics import r2_score, mean_squared_error\n",
    "\n",
    "# Pass the list_price column and the baseline_preds list into the function r2_score\n",
    "baseline_r2 = r2_score(train.list_price, baseline_preds)\n",
    "\n",
    "# Pass the list_price column and the baseline_preds list \n",
    "# into the function mean_squared_error and setting squared to False\n",
    "\n",
    "\n",
    "baseline_rmse = mean_squared_error(train.list_price, baseline_preds, squared=False)\n",
    "\n",
    "print('Baseline R^2: ', baseline_r2)\n",
    "print('Baseline RMSE:', baseline_rmse)"
   ]
  },
  {
   "cell_type": "markdown",
   "metadata": {
    "index": 40
   },
   "source": [
    "**Interpret the resulting metrics for the baseline model.**\n",
    "\n",
    "- How is the model explaining the variance of the dependent variable?\n",
    "- On average, how many dollars off are the models predictions?"
   ]
  },
  {
   "cell_type": "markdown",
   "metadata": {},
   "source": [
    "The baseline model doesnt explain any of the variance with a r2 of 0.\n",
    "The baseline model's dollar error is at 72.8 which is pretty high considering our mean price is around 48.6"
   ]
  },
  {
   "cell_type": "markdown",
   "metadata": {
    "index": 42
   },
   "source": [
    "# 2. Interpret a Correlation Heatmap to Build a Baseline Model\n",
    "\n",
    "## Correlation Heatmap\n",
    "\n",
    "Produce a heatmap showing the correlations between all of the numeric values in the data. The x and y axis labels should indicate the pair of values that are being compared, and then the color and the number should represent the correlation. \n",
    "\n",
    "The most important column or row shows the correlations betyouen the target (listing price) and other attributes."
   ]
  },
  {
   "cell_type": "code",
   "execution_count": 29,
   "metadata": {
    "index": 43
   },
   "outputs": [],
   "source": [
    "import seaborn as sns\n",
    "import numpy as np"
   ]
  },
  {
   "cell_type": "code",
   "execution_count": 30,
   "metadata": {
    "index": 45
   },
   "outputs": [
    {
     "data": {
      "image/png": "[encoded data removed]",
      "text/plain": [
       "<Figure size 1296x576 with 2 Axes>"
      ]
     },
     "metadata": {
      "needs_background": "light"
     },
     "output_type": "display_data"
    }
   ],
   "source": [
    "fig, ax = plt.subplots(figsize = (18, 8))\n",
    "mask = np.triu(np.ones_like(df.corr(), dtype=bool))\n",
    "sns.heatmap(df.corr(), cmap='Blues', annot=True, mask=mask).set(title=\"Correlation Heatmap\");"
   ]
  },
  {
   "cell_type": "markdown",
   "metadata": {
    "index": 47
   },
   "source": [
    "Based on the heatmap, which feature is most strongly correlated with the target (`list_price`)? In other words, which feature has the strongest positive or negative correlation — the correlation with the greatest magnitude?"
   ]
  },
  {
   "cell_type": "code",
   "execution_count": 31,
   "metadata": {
    "index": 48
   },
   "outputs": [],
   "source": [
    "most_correlated_feature = 'piece_count'"
   ]
  },
  {
   "cell_type": "markdown",
   "metadata": {
    "index": 50
   },
   "source": [
    "Create a scatter plot of that feature vs. listing price:"
   ]
  },
  {
   "cell_type": "code",
   "execution_count": 32,
   "metadata": {
    "index": 51
   },
   "outputs": [
    {
     "data": {
      "image/png": "[encoded data removed]",
      "text/plain": [
       "<Figure size 1296x720 with 1 Axes>"
      ]
     },
     "metadata": {
      "needs_background": "light"
     },
     "output_type": "display_data"
    }
   ],
   "source": [
    "fig, ax = plt.subplots(figsize = (18, 10))\n",
    "sns.scatterplot(x = most_correlated_feature, y='list_price', data=df).set(title=\"Piece Count vs List Price\");"
   ]
  },
  {
   "cell_type": "markdown",
   "metadata": {
    "index": 53
   },
   "source": [
    "Assuming you correctly identified `piece_count` (the number of pieces in the LEGO set) as the most correlated feature, you should have a scatter plot that shows a fairly clear linear relationship betyouen that feature and the target. It looks like you are ready to proceed with creating a simple linear regression model."
   ]
  },
  {
   "cell_type": "markdown",
   "metadata": {
    "index": 54
   },
   "source": [
    "# 3. Build a Simple Linear Regression Model\n",
    "\n",
    "Now, you'll build a linear regression model using just that feature. \n",
    "\n",
    "In the cell below, fit a statsmodels linear regression model to the data and output a summary for the model. "
   ]
  },
  {
   "cell_type": "code",
   "execution_count": 33,
   "metadata": {
    "index": 55
   },
   "outputs": [],
   "source": [
    "import statsmodels.formula.api as smf\n",
    "from statsmodels.formula.api import ols\n",
    "f = 'list_price~piece_count'\n",
    "model = ols(formula=f, data=train).fit()"
   ]
  },
  {
   "cell_type": "code",
   "execution_count": 34,
   "metadata": {},
   "outputs": [
    {
     "data": {
      "text/html": [
       "<table class=\"simpletable\">\n",
       "<caption>OLS Regression Results</caption>\n",
       "<tr>\n",
       "  <th>Dep. Variable:</th>       <td>list_price</td>    <th>  R-squared:         </th> <td>   0.692</td> \n",
       "</tr>\n",
       "<tr>\n",
       "  <th>Model:</th>                   <td>OLS</td>       <th>  Adj. R-squared:    </th> <td>   0.691</td> \n",
       "</tr>\n",
       "<tr>\n",
       "  <th>Method:</th>             <td>Least Squares</td>  <th>  F-statistic:       </th> <td>   1332.</td> \n",
       "</tr>\n",
       "<tr>\n",
       "  <th>Date:</th>             <td>Thu, 17 Feb 2022</td> <th>  Prob (F-statistic):</th> <td>8.91e-154</td>\n",
       "</tr>\n",
       "<tr>\n",
       "  <th>Time:</th>                 <td>06:13:24</td>     <th>  Log-Likelihood:    </th> <td> -3045.4</td> \n",
       "</tr>\n",
       "<tr>\n",
       "  <th>No. Observations:</th>      <td>   595</td>      <th>  AIC:               </th> <td>   6095.</td> \n",
       "</tr>\n",
       "<tr>\n",
       "  <th>Df Residuals:</th>          <td>   593</td>      <th>  BIC:               </th> <td>   6104.</td> \n",
       "</tr>\n",
       "<tr>\n",
       "  <th>Df Model:</th>              <td>     1</td>      <th>                     </th>     <td> </td>    \n",
       "</tr>\n",
       "<tr>\n",
       "  <th>Covariance Type:</th>      <td>nonrobust</td>    <th>                     </th>     <td> </td>    \n",
       "</tr>\n",
       "</table>\n",
       "<table class=\"simpletable\">\n",
       "<tr>\n",
       "       <td></td>          <th>coef</th>     <th>std err</th>      <th>t</th>      <th>P>|t|</th>  <th>[0.025</th>    <th>0.975]</th>  \n",
       "</tr>\n",
       "<tr>\n",
       "  <th>Intercept</th>   <td>   12.2949</td> <td>    1.954</td> <td>    6.292</td> <td> 0.000</td> <td>    8.457</td> <td>   16.133</td>\n",
       "</tr>\n",
       "<tr>\n",
       "  <th>piece_count</th> <td>    0.0858</td> <td>    0.002</td> <td>   36.501</td> <td> 0.000</td> <td>    0.081</td> <td>    0.090</td>\n",
       "</tr>\n",
       "</table>\n",
       "<table class=\"simpletable\">\n",
       "<tr>\n",
       "  <th>Omnibus:</th>       <td>922.696</td> <th>  Durbin-Watson:     </th>  <td>   1.887</td> \n",
       "</tr>\n",
       "<tr>\n",
       "  <th>Prob(Omnibus):</th> <td> 0.000</td>  <th>  Jarque-Bera (JB):  </th> <td>320256.650</td>\n",
       "</tr>\n",
       "<tr>\n",
       "  <th>Skew:</th>          <td> 8.778</td>  <th>  Prob(JB):          </th>  <td>    0.00</td> \n",
       "</tr>\n",
       "<tr>\n",
       "  <th>Kurtosis:</th>      <td>115.293</td> <th>  Cond. No.          </th>  <td>    978.</td> \n",
       "</tr>\n",
       "</table><br/><br/>Notes:<br/>[1] Standard Errors assume that the covariance matrix of the errors is correctly specified."
      ],
      "text/plain": [
       "<class 'statsmodels.iolib.summary.Summary'>\n",
       "\"\"\"\n",
       "                            OLS Regression Results                            \n",
       "==============================================================================\n",
       "Dep. Variable:             list_price   R-squared:                       0.692\n",
       "Model:                            OLS   Adj. R-squared:                  0.691\n",
       "Method:                 Least Squares   F-statistic:                     1332.\n",
       "Date:                Thu, 17 Feb 2022   Prob (F-statistic):          8.91e-154\n",
       "Time:                        06:13:24   Log-Likelihood:                -3045.4\n",
       "No. Observations:                 595   AIC:                             6095.\n",
       "Df Residuals:                     593   BIC:                             6104.\n",
       "Df Model:                           1                                         \n",
       "Covariance Type:            nonrobust                                         \n",
       "===============================================================================\n",
       "                  coef    std err          t      P>|t|      [0.025      0.975]\n",
       "-------------------------------------------------------------------------------\n",
       "Intercept      12.2949      1.954      6.292      0.000       8.457      16.133\n",
       "piece_count     0.0858      0.002     36.501      0.000       0.081       0.090\n",
       "==============================================================================\n",
       "Omnibus:                      922.696   Durbin-Watson:                   1.887\n",
       "Prob(Omnibus):                  0.000   Jarque-Bera (JB):           320256.650\n",
       "Skew:                           8.778   Prob(JB):                         0.00\n",
       "Kurtosis:                     115.293   Cond. No.                         978.\n",
       "==============================================================================\n",
       "\n",
       "Notes:\n",
       "[1] Standard Errors assume that the covariance matrix of the errors is correctly specified.\n",
       "\"\"\""
      ]
     },
     "execution_count": 34,
     "metadata": {},
     "output_type": "execute_result"
    }
   ],
   "source": [
    "model.summary()"
   ]
  },
  {
   "cell_type": "code",
   "execution_count": 35,
   "metadata": {},
   "outputs": [
    {
     "data": {
      "text/html": [
       "<div>\n",
       "<style scoped>\n",
       "    .dataframe tbody tr th:only-of-type {\n",
       "        vertical-align: middle;\n",
       "    }\n",
       "\n",
       "    .dataframe tbody tr th {\n",
       "        vertical-align: top;\n",
       "    }\n",
       "\n",
       "    .dataframe thead th {\n",
       "        text-align: right;\n",
       "    }\n",
       "</style>\n",
       "<table border=\"1\" class=\"dataframe\">\n",
       "  <thead>\n",
       "    <tr style=\"text-align: right;\">\n",
       "      <th></th>\n",
       "      <th>0</th>\n",
       "      <th>1</th>\n",
       "    </tr>\n",
       "  </thead>\n",
       "  <tbody>\n",
       "    <tr>\n",
       "      <th>Intercept</th>\n",
       "      <td>8.457236</td>\n",
       "      <td>16.132599</td>\n",
       "    </tr>\n",
       "    <tr>\n",
       "      <th>piece_count</th>\n",
       "      <td>0.081221</td>\n",
       "      <td>0.090459</td>\n",
       "    </tr>\n",
       "  </tbody>\n",
       "</table>\n",
       "</div>"
      ],
      "text/plain": [
       "                    0          1\n",
       "Intercept    8.457236  16.132599\n",
       "piece_count  0.081221   0.090459"
      ]
     },
     "execution_count": 35,
     "metadata": {},
     "output_type": "execute_result"
    }
   ],
   "source": [
    "model.conf_int(alpha=0.05, cols=None)\n",
    "#another way of checking confidence intervals separately"
   ]
  },
  {
   "cell_type": "markdown",
   "metadata": {
    "index": 57
   },
   "source": [
    "# 4. Interpret the Simple Linear Regression Model"
   ]
  },
  {
   "cell_type": "markdown",
   "metadata": {
    "index": 58
   },
   "source": [
    "Now that the model has been fit, you should interpret the model parameters. \n",
    "\n",
    "Specifically:\n",
    "- What do the coefficients for the intercept and independent variable suggest about the dependent variable?\n",
    "- Are the coefficients found to be statistically significant?\n",
    "- What are the confidence intervals for the coefficients?\n",
    "- Do the relationships found by the model seem plausible? "
   ]
  },
  {
   "cell_type": "markdown",
   "metadata": {
    "index": "Placeholder"
   },
   "source": [
    "1. Our R squared of 0.691 means that our model explains 69.1% of the variance in our List Price variable.\n",
    "2. That R2 value of 0.691 is statistically significant. With a p value of 0.00 we can sucessfully reject the Null hypothesis\n",
    "3. The confidence interval for the intercept is between 8.457 and 16.133. The confidence interval for piece_count is between 0.081 and 0.090.\n",
    "4. The relationships found by the model is plausible because we have found the relationships to be statistically significant. We can reject the null hypothesis based on the low P values."
   ]
  },
  {
   "cell_type": "markdown",
   "metadata": {
    "index": 60
   },
   "source": [
    "# 5. Evaluate the Simple Linear Regression Model"
   ]
  },
  {
   "cell_type": "markdown",
   "metadata": {
    "index": 61
   },
   "source": [
    "Now that the model parameters have been interpreted, the model must be assessed based on predictive metrics and whether or not the model is meeting the assumptions of linear regression. "
   ]
  },
  {
   "cell_type": "markdown",
   "metadata": {
    "index": 62
   },
   "source": [
    "### Compare the $R^2$ and the Root Mean Squared Error of the simple linear regression model with the baseline model. "
   ]
  },
  {
   "cell_type": "code",
   "execution_count": 38,
   "metadata": {
    "index": 63
   },
   "outputs": [
    {
     "name": "stdout",
     "output_type": "stream",
     "text": [
      "Baseline R^2:  0.0\n",
      "Baseline RMSE: 72.84078918829029\n",
      "----------------------------\n",
      "Regression R^2:  0.692000871519727\n",
      "Regression RMSE: 21.057485629006923\n"
     ]
    }
   ],
   "source": [
    "from statsmodels.tools.eval_measures import rmse\n",
    "\n",
    "model_r2 = model.rsquared\n",
    "ypred = model.predict(test.piece_count)\n",
    "model_rmse = rmse(test.list_price, ypred)\n",
    "\n",
    "print('Baseline R^2: ', baseline_r2)\n",
    "print('Baseline RMSE:', baseline_rmse)\n",
    "print('----------------------------')\n",
    "print('Regression R^2: ', model_r2)\n",
    "print('Regression RMSE:', model_rmse)"
   ]
  },
  {
   "cell_type": "markdown",
   "metadata": {
    "index": 65
   },
   "source": [
    "### Interpret the model metrics"
   ]
  },
  {
   "cell_type": "markdown",
   "metadata": {
    "index": "Placeholder"
   },
   "source": [
    "In comparing the two models' R2 and RMSE, we can be confident that the model that we built is a better fit than the baseline model."
   ]
  },
  {
   "cell_type": "markdown",
   "metadata": {
    "index": 67
   },
   "source": [
    "### Check the assumptions of simple linear regression"
   ]
  },
  {
   "cell_type": "markdown",
   "metadata": {
    "index": 68
   },
   "source": [
    "#### Investigating Linearity\n",
    "\n",
    "First, let's check whether the linearity assumption holds."
   ]
  },
  {
   "cell_type": "code",
   "execution_count": 76,
   "metadata": {
    "index": 69
   },
   "outputs": [
    {
     "data": {
      "image/png": "[encoded data removed]",
      "text/plain": [
       "<Figure size 1296x720 with 1 Axes>"
      ]
     },
     "metadata": {
      "needs_background": "light"
     },
     "output_type": "display_data"
    }
   ],
   "source": [
    "# Run this cell without changes\n",
    "\n",
    "preds = model.predict()\n",
    "fig, ax = plt.subplots(figsize=(18,10))\n",
    "\n",
    "perfect_line = np.arange(df.list_price.min(), df.list_price.max())\n",
    "ax.plot(perfect_line, linestyle=\"--\", color=\"orange\", label=\"Perfect Fit\")\n",
    "ax.scatter(df.list_price, preds, alpha=0.5)\n",
    "ax.set_xlabel(\"Actual Price\")\n",
    "ax.set_ylabel(\"Predicted Price\")\n",
    "ax.legend();"
   ]
  },
  {
   "cell_type": "markdown",
   "metadata": {
    "index": 71
   },
   "source": [
    "Are you violating the linearity assumption?"
   ]
  },
  {
   "cell_type": "markdown",
   "metadata": {
    "index": "Placeholder"
   },
   "source": [
    "Based on the visualisation, we can assume linearity. There are however, quite a few  outliers that might affect the accuracy of our model."
   ]
  },
  {
   "cell_type": "markdown",
   "metadata": {
    "index": 73
   },
   "source": [
    "#### Investigating Normality\n",
    "\n",
    "Now let's check whether the normality assumption holds for our model."
   ]
  },
  {
   "cell_type": "code",
   "execution_count": 35,
   "metadata": {
    "index": 74
   },
   "outputs": [
    {
     "name": "stderr",
     "output_type": "stream",
     "text": [
      "/opt/conda/lib/python3.9/site-packages/statsmodels/graphics/gofplots.py:993: UserWarning: marker is redundantly defined by the 'marker' keyword argument and the fmt string \"bo\" (-> marker='o'). The keyword argument will take precedence.\n",
      "  ax.plot(x, y, fmt, **plot_style)\n"
     ]
    },
    {
     "data": {
      "image/png": "[encoded data removed]",
      "text/plain": [
       "<Figure size 432x288 with 1 Axes>"
      ]
     },
     "metadata": {
      "needs_background": "light"
     },
     "output_type": "display_data"
    }
   ],
   "source": [
    "# Run this code without changes\n",
    "import scipy.stats as stats\n",
    "import statsmodels.api as sm\n",
    "\n",
    "residuals = (df.list_price - preds)\n",
    "sm.graphics.qqplot(residuals, dist=stats.norm, line='45', fit=True);"
   ]
  },
  {
   "cell_type": "markdown",
   "metadata": {
    "index": 76
   },
   "source": [
    "Are you violating the normality assumption?"
   ]
  },
  {
   "cell_type": "markdown",
   "metadata": {
    "index": "Placeholder"
   },
   "source": [
    "The outliers that we've mentioned earlier is causing our dataset to violate the normality assumption. We should clean up the dataset and see if it can assume the normality assumption without the outliers."
   ]
  },
  {
   "cell_type": "markdown",
   "metadata": {
    "index": 78
   },
   "source": [
    "#### Investigating Homoscedasticity\n",
    "\n",
    "Now let's check whether the model's errors are indeed homoscedastic or if they violate this principle and display heteroscedasticity."
   ]
  },
  {
   "cell_type": "code",
   "execution_count": 80,
   "metadata": {
    "index": 79
   },
   "outputs": [
    {
     "data": {
      "image/png": "[encoded data removed]",
      "text/plain": [
       "<Figure size 1296x720 with 1 Axes>"
      ]
     },
     "metadata": {
      "needs_background": "light"
     },
     "output_type": "display_data"
    }
   ],
   "source": [
    "# Run this cell without changes\n",
    "fig, ax = plt.subplots(figsize=(18,10))\n",
    "\n",
    "ax.scatter(preds, residuals, alpha=0.5)\n",
    "ax.plot(preds, [0 for i in range(len(df))])\n",
    "ax.set_xlabel(\"Predicted Value\")\n",
    "ax.set_ylabel(\"Actual - Predicted Value\");"
   ]
  },
  {
   "cell_type": "markdown",
   "metadata": {
    "index": 81
   },
   "source": [
    "Are you violating the homoscedasticity assumption?"
   ]
  },
  {
   "cell_type": "markdown",
   "metadata": {
    "index": "Placeholder"
   },
   "source": [
    "Baseed on our visualization, our outliers are causing it to make a slight funnel shape and therefore violate the assumption of homoscedasticity. We should remove the outliers to make sure we don't violate homoskedasticity."
   ]
  },
  {
   "cell_type": "markdown",
   "metadata": {
    "index": 83
   },
   "source": [
    "### Linear Regression Assumptions Conclusion"
   ]
  },
  {
   "cell_type": "markdown",
   "metadata": {
    "index": "Placeholder"
   },
   "source": [
    "Our model's coefficients are pretty strong compared to our baseline model. However, we are violating some of the assumptions for linear regression. We should clean up the dataset to remove the outliers and see if the improved model can be used for both inferential and predictive purposes."
   ]
  }
 ],
 "metadata": {
  "kernelspec": {
   "display_name": "Python 3",
   "language": "python",
   "name": "python3"
  },
  "language_info": {
   "codemirror_mode": {
    "name": "ipython",
    "version": 3
   },
   "file_extension": ".py",
   "mimetype": "text/x-python",
   "name": "python",
   "nbconvert_exporter": "python",
   "pygments_lexer": "ipython3",
   "version": "3.9.5"
  }
 },
 "nbformat": 4,
 "nbformat_minor": 4
}
