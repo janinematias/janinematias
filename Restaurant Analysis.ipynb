{
 "cells": [
  {
   "cell_type": "markdown",
   "id": "defined-comedy",
   "metadata": {},
   "source": [
    "# Task: Compare New York Pizza Restaurants with Above Average and Below Average Ratings\n",
    "![Pizza gif](https://media.giphy.com/media/eK1eFdpj5kMWqZ9bLJ/giphy.gif?cid=ecf05e47rkbp48nwz3za6dloo8xfwzueu0rx2vklguo7xyhu&rid=giphy.gif&ct=g)\n",
    "\n",
    "## Business Understanding \n",
    "\n",
    "A client at your analytics firm is considering opening a pizza restaurant in New York City. \n",
    "\n",
    "They have asked you to develop a business intelligence report to fact check the following claims:\n",
    "1. Your client wants to ensure they have an above average Yelp rating. They have previously owned restuarants in other cities, where a `3` was the average. They would like to know if that holds true in New York City. \n",
    "1. Your client has noticed that restaurants on yelp with a high review count seem to be quite successful. They have decided to focus on maximizing their review count which they believe will allow them to have an above average overall review. \n",
    "1. After looking at a few restaurants on Yelp, your client believes that most above average restaurants have a price point of `$$`. They are considering increasing their prices from `$` to `$$` to match the majority of above average restaurants, and would like you to find the most common price point for above average restaurants in New York City.\n",
    "1. In terms of location they have been told that above average restaurants are usually further east and below average are usually further west, but that the biggest difference is whether the restaurant is on the north or south side. They would like you to determine if the data supports this claim.\n",
    "1. They believe that the `10012` zipcode in New York City is the best place to open a restaurant. They wish to open a restaurant in close proximity to other highly rated restaurants, and they believe `10012` has the most in NYC."
   ]
  },
  {
   "cell_type": "markdown",
   "id": "fundamental-explanation",
   "metadata": {},
   "source": [
    "## Load the data"
   ]
  },
  {
   "cell_type": "code",
   "execution_count": 1,
   "id": "finnish-hardwood",
   "metadata": {},
   "outputs": [],
   "source": [
    "# Import the json python package\n",
    "import json\n",
    "\n",
    "# Load in the data\n",
    "with open('pizza_businesses.json') as f:\n",
    "    data = json.load(f)"
   ]
  },
  {
   "cell_type": "markdown",
   "id": "enormous-operation",
   "metadata": {},
   "source": [
    "## Describing the data\n",
    "\n",
    "Now that we've loaded in the dataset, the structure of the data should be inspected.\n",
    "\n",
    "In the cell below, we will evaluate \n",
    "- The datatype of the overall dataset\n",
    "- The datatype of a single observation\n",
    "- The number of observations, and then\n",
    "- Isolate the first observation in the dataset"
   ]
  },
  {
   "cell_type": "code",
   "execution_count": 2,
   "id": "false-afghanistan",
   "metadata": {},
   "outputs": [],
   "source": [
    "# Finding the datatype for the overall dataset\n",
    "dataset_type = type(data)\n",
    "\n",
    "# Isolating the first observation\n",
    "first_observation = data[0]\n",
    "\n",
    "# Finding the datatype for the first observation\n",
    "observation_type = type(data[0])\n",
    "\n",
    "# How many observations are there\n",
    "num_observations = len(data)"
   ]
  },
  {
   "cell_type": "code",
   "execution_count": 3,
   "id": "surprised-keyboard",
   "metadata": {},
   "outputs": [
    {
     "name": "stdout",
     "output_type": "stream",
     "text": [
      "The dataset is a \u001b[1m<class 'list'>\u001b[0m\n",
      "The observations are a \u001b[1m<class 'dict'>\u001b[0m\n",
      "There are \u001b[1m1000 observations.\u001b[0m\n",
      "\u001b[1m\n",
      "The first observation:\u001b[0m\n",
      "==========================================\n",
      "{'latitude': 40.72308755605564,\n",
      " 'location': {'address1': '27 Prince St',\n",
      "              'address2': None,\n",
      "              'address3': '',\n",
      "              'city': 'New York',\n",
      "              'country': 'US',\n",
      "              'display_address': ['27 Prince St', 'New York, NY 10012'],\n",
      "              'state': 'NY',\n",
      "              'zip_code': '10012'},\n",
      " 'longitude': -73.99453001177575,\n",
      " 'name': 'Prince Street Pizza',\n",
      " 'phone': '+12129664100',\n",
      " 'price': '\\\\$',\n",
      " 'rating': 4.5,\n",
      " 'review_count': 3976,\n",
      " 'transactions': ['delivery', 'pickup']}\n",
      "==========================================\n"
     ]
    }
   ],
   "source": [
    "from pprint import pprint\n",
    "\n",
    "print(f'The dataset is a \\033[1m{dataset_type}\\033[0m')\n",
    "print(f'The observations are a \\033[1m{observation_type}\\033[0m',)\n",
    "print(f'There are \\033[1m{num_observations} observations.\\033[0m')\n",
    "print('\\033[1m\\nThe first observation:\\033[0m')\n",
    "print('==========================================')\n",
    "pprint(first_observation)\n",
    "print('==========================================')"
   ]
  },
  {
   "cell_type": "markdown",
   "id": "atlantic-application",
   "metadata": {},
   "source": [
    "## Find the possible rating options. \n",
    "\n",
    "In the cell below, we will create a variable called `rating_options` that has a [set datatype](https://realpython.com/python-sets/), and is a unique collection of the possible ratings a restaurant can recieve."
   ]
  },
  {
   "cell_type": "code",
   "execution_count": 4,
   "id": "broke-array",
   "metadata": {},
   "outputs": [
    {
     "data": {
      "text/plain": [
       "{1.0, 2.0, 2.5, 3.0, 3.5, 4.0, 4.5, 5.0}"
      ]
     },
     "execution_count": 4,
     "metadata": {},
     "output_type": "execute_result"
    }
   ],
   "source": [
    "# Create the `rating_options` variable\n",
    "rating_options = []\n",
    "\n",
    "for restaurant in data:\n",
    "    rating_options.append(restaurant['rating'])\n",
    "# Loop over all of the observations in the dataset\n",
    "rating_options = set(rating_options)\n",
    "\n",
    "rating_options"
   ]
  },
  {
   "cell_type": "code",
   "execution_count": 5,
   "id": "czech-spring",
   "metadata": {},
   "outputs": [],
   "source": [
    "#assertion tests to ensure that the code is right\n",
    "\n",
    "assert type(rating_options) == set\n",
    "assert len(rating_options) == 8\n",
    "assert list(rating_options)[0] != list(rating_options)[1]"
   ]
  },
  {
   "cell_type": "markdown",
   "id": "charitable-oracle",
   "metadata": {},
   "source": [
    "## Plot the distribution for ratings\n",
    "\n",
    "Now that you know what rating options are available, in the cell below plot a histogram showing the distribution of ratings. "
   ]
  },
  {
   "cell_type": "code",
   "execution_count": 6,
   "id": "electric-grocery",
   "metadata": {},
   "outputs": [
    {
     "data": {
      "image/png": "[encoded data removed]",
      "text/plain": [
       "<Figure size 432x288 with 1 Axes>"
      ]
     },
     "metadata": {
      "needs_background": "light"
     },
     "output_type": "display_data"
    }
   ],
   "source": [
    "# Import matplotlib's pyplot module\n",
    "import matplotlib.pyplot as plt\n",
    "\n",
    "%matplotlib inline\n",
    "\n",
    "import seaborn as sns\n",
    "ratings = []\n",
    "\n",
    "# Loop over every restaurant in the dataset\n",
    "for restaurant in data:\n",
    "\n",
    "    # Isolate the rating\n",
    "    ratings.append(restaurant['rating'])\n",
    "    # Append the rating to the `ratings` list\n",
    "\n",
    "sns.histplot(data = ratings,)\n",
    "plt.title(\"Restaurant Ratings\")\n",
    "plt.xlabel(\"Rating\");"
   ]
  },
  {
   "cell_type": "markdown",
   "id": "digital-marshall",
   "metadata": {},
   "source": [
    "**Interpret the ratings histogram**"
   ]
  },
  {
   "cell_type": "markdown",
   "id": "adjusted-sterling",
   "metadata": {},
   "source": [
    "The client wants to know if 3 as an average rating holds true in New York City. Based on the histogram above, 4.0 rating is the most frequent restaurant rating in New York."
   ]
  },
  {
   "cell_type": "markdown",
   "id": "martial-receiver",
   "metadata": {},
   "source": [
    "## Isolate the restaurants with an above average rating\n",
    "\n",
    "Now that you have an understanding for what is an average rating, next you will isolate restaurants with above average and below average ratings so you can compare them.\n",
    "\n",
    "In the cell below, filter out all restaurants that do not have a rating of at least `4.5`."
   ]
  },
  {
   "cell_type": "code",
   "execution_count": 7,
   "id": "possible-arrest",
   "metadata": {},
   "outputs": [],
   "source": [
    "# Creating an empty list to store restaurants in this list\n",
    "above_average = []\n",
    "\n",
    "# Loop over the dataset\n",
    "for restaurant in data:\n",
    "    # Isolate the rating\n",
    "    # Check if the rating is at least 4.5\n",
    "    if restaurant['rating'] >= 4.5:\n",
    "        # If the rating is at least 4.5\n",
    "        # Add the restaurant to the list\n",
    "        above_average.append(restaurant)"
   ]
  },
  {
   "cell_type": "code",
   "execution_count": 8,
   "id": "falling-argentina",
   "metadata": {},
   "outputs": [],
   "source": [
    "#assertion tests to check our code\n",
    "\n",
    "assert type(above_average) == list\n",
    "assert type(above_average[0]) == dict\n",
    "assert len(above_average) == 306"
   ]
  },
  {
   "cell_type": "markdown",
   "id": "elder-petersburg",
   "metadata": {},
   "source": [
    "## Isolate restaurants with a below average rating\n",
    "\n",
    "Now repeat the process for below average ratings.\n",
    "\n",
    "In the cell below, isolate restaurants that have a rating of no more than `3.5`."
   ]
  },
  {
   "cell_type": "code",
   "execution_count": 9,
   "id": "intense-deviation",
   "metadata": {},
   "outputs": [],
   "source": [
    "# Create an empty list\n",
    "# You will store restaurants in this list\n",
    "below_average = []\n",
    "\n",
    "# Loop over the restaurants in the dataset\n",
    "for restaurant in data:\n",
    "    # Isolate the rating\n",
    "    # Check if the rating is no more than 3.5\n",
    "    if restaurant['rating'] <= 3.5:\n",
    "        # If the rating no more than 3.5\n",
    "        # Add the restaurant to the list\n",
    "        below_average.append(restaurant)"
   ]
  },
  {
   "cell_type": "code",
   "execution_count": 10,
   "id": "engaged-resident",
   "metadata": {},
   "outputs": [],
   "source": [
    "#assertion tests to check our code\n",
    "\n",
    "assert type(below_average) == list\n",
    "assert type(below_average[0]) == dict\n",
    "assert len(below_average) == 247"
   ]
  },
  {
   "cell_type": "markdown",
   "id": "competitive-roommate",
   "metadata": {},
   "source": [
    "## Calculate average review counts for both groups\n",
    "\n",
    "Now that we've isolated above average and below average restaurants, we can calculate the average number of reviews received by both groups.\n",
    "\n",
    "To do this, we will need to isolate the review counts for both groups, and calculate their average. \n",
    "\n",
    "In the cell below, we will define a function called `isolate_values` that receives two arguments:\n",
    "1. A list of dictionaries\n",
    "2. A string indicating the key that should be isolated for each dictionary\n",
    "\n",
    "This function should:\n",
    "- Loop over every dictionary in the inputted list\n",
    "- Pull out the value assigned to the inputted key\n",
    "- Append the value to a new list\n",
    "- Return the new list of values"
   ]
  },
  {
   "cell_type": "code",
   "execution_count": 11,
   "id": "efficient-kingdom",
   "metadata": {},
   "outputs": [],
   "source": [
    "def isolate_values(dictionaries, key):\n",
    "    # Create an empty list for storing data\n",
    "    list_of_values = []\n",
    "    \n",
    "    # Loop over every dicionary \n",
    "    for dictionary in dictionaries:\n",
    "        list_of_values.append(dictionary[key])\n",
    "        # Isolate the value of the dictionary with the `key`\n",
    "        # Append the value to the list\n",
    "\n",
    "    return list_of_values\n",
    "    # Return the list of values"
   ]
  },
  {
   "cell_type": "code",
   "execution_count": 12,
   "id": "yellow-phoenix",
   "metadata": {},
   "outputs": [],
   "source": [
    "from types import FunctionType\n",
    "\n",
    "assert type(isolate_values) == FunctionType\n",
    "assert type(isolate_values([{'test': 1}], 'test')) == list\n",
    "assert len(isolate_values([{'test': 1}], 'test')) == 1\n",
    "assert len(isolate_values(above_average, 'name')) == len(above_average)\n",
    "assert isolate_values(above_average, 'name')[-1] == above_average[-1]['name']"
   ]
  },
  {
   "cell_type": "markdown",
   "id": "outer-assembly",
   "metadata": {},
   "source": [
    "Now we are going to use the `isolate_values` function to create a list called `abv_avg_rev_cnts` that contains the review counts for every above average restaurant."
   ]
  },
  {
   "cell_type": "code",
   "execution_count": 13,
   "id": "useful-halloween",
   "metadata": {},
   "outputs": [],
   "source": [
    "abv_avg_rev_cnts = isolate_values(above_average, 'review_count')"
   ]
  },
  {
   "cell_type": "markdown",
   "id": "severe-amateur",
   "metadata": {},
   "source": [
    "Then we use the `isolate_values` function to create a list called `blw_avg_rev_cnts` that contains the review counts for every below average restaurant."
   ]
  },
  {
   "cell_type": "code",
   "execution_count": 14,
   "id": "herbal-interim",
   "metadata": {},
   "outputs": [],
   "source": [
    "blw_avg_rev_cnts = isolate_values(below_average, 'review_count')"
   ]
  },
  {
   "cell_type": "code",
   "execution_count": 15,
   "id": "utility-pharmacy",
   "metadata": {},
   "outputs": [],
   "source": [
    "assert type(abv_avg_rev_cnts) == list\n",
    "assert type(abv_avg_rev_cnts[0]) == int\n",
    "assert type(blw_avg_rev_cnts) == list\n",
    "assert type(blw_avg_rev_cnts[0]) == int\n",
    "assert len(abv_avg_rev_cnts) == len(above_average)\n",
    "assert len(blw_avg_rev_cnts) == len(below_average)\n",
    "assert abv_avg_rev_cnts[101] == above_average[101]['review_count']\n",
    "assert blw_avg_rev_cnts[101] == below_average[101]['review_count']"
   ]
  },
  {
   "cell_type": "markdown",
   "id": "verbal-pressing",
   "metadata": {},
   "source": [
    "Now that we have isolated the review counts for both groups, we can calculate the average review count.\n",
    "\n",
    "We should first inspect the distribution of review counts to make sure `mean` is an appropriate measure of centrality.\n",
    "\n",
    "In the cell below, we plot a histogram for above average and below average restaurant review counts."
   ]
  },
  {
   "cell_type": "code",
   "execution_count": 16,
   "id": "wooden-viking",
   "metadata": {},
   "outputs": [
    {
     "data": {
      "image/png": "[encoded data removed]",
      "text/plain": [
       "<Figure size 1080x432 with 2 Axes>"
      ]
     },
     "metadata": {
      "needs_background": "light"
     },
     "output_type": "display_data"
    }
   ],
   "source": [
    "# Initialize a matplotlib subplot with 1 row and 2 columns\n",
    "fig, ax = plt.subplots(1,2, figsize=(15,6))\n",
    "\n",
    "# Plot a histogram of below average review counts on the first axis\n",
    "#ax[0].hist(blw_avg_rev_cnts)\n",
    "sns.histplot(data=blw_avg_rev_cnts, ax=ax[0])\n",
    "\n",
    "# Set the title for the first axis to \"Below Average - Review Counts\"\n",
    "ax[0].set_title(\"Below Average - Review Counts\")\n",
    "\n",
    "# Plot a histogram of above average review counts on the second axis\n",
    "#ax[1].hist(abv_avg_rev_cnts)\n",
    "sns.histplot(data=abv_avg_rev_cnts,ax=ax[1] )\n",
    "# Set the title for the first axis to \"Above Average - Review Counts\"\n",
    "ax[1].set_title(\"Above Average - Review Counts\");"
   ]
  },
  {
   "cell_type": "markdown",
   "id": "regulation-radius",
   "metadata": {},
   "source": [
    "**Interpret the above visualizations. What statistic is best suited for these data?**"
   ]
  },
  {
   "cell_type": "markdown",
   "id": "atmospheric-trauma",
   "metadata": {},
   "source": [
    "Based on the above data, mean is not an appropriate measure of centrality because of a few outliers. Median would be a more appropriate measure of central tendency."
   ]
  },
  {
   "cell_type": "markdown",
   "id": "continuous-mills",
   "metadata": {},
   "source": [
    "In the cell below, calculate the average review count for above average and below average restaurants."
   ]
  },
  {
   "cell_type": "code",
   "execution_count": 17,
   "id": "terminal-morrison",
   "metadata": {},
   "outputs": [
    {
     "name": "stdout",
     "output_type": "stream",
     "text": [
      "Above average review count: 65.5\n",
      "Below average review count: 168.0\n"
     ]
    }
   ],
   "source": [
    "# Import numpy\n",
    "import numpy as np\n",
    "abv_avg_rev_cnt_center = np.median(abv_avg_rev_cnts)\n",
    "blw_avg_rev_cnt_center = np.median(blw_avg_rev_cnts)\n",
    "\n",
    "print('Above average review count:', abv_avg_rev_cnt_center)\n",
    "print('Below average review count:', blw_avg_rev_cnt_center)"
   ]
  },
  {
   "cell_type": "markdown",
   "id": "stunning-setup",
   "metadata": {},
   "source": [
    "The client claims that restaurants with higher review counts are more successful. Based on the data, below average restaurants have higher review counts than their above average counterpart. The data doesn't support their claims that a higher review count will equal to a above average rating."
   ]
  },
  {
   "cell_type": "markdown",
   "id": "fallen-dress",
   "metadata": {},
   "source": [
    "## Count the price option frequency\n",
    "\n",
    "The `price` variable in the dataset is a string of dollar signs indicating how expensive a restaurant's price point is. \n",
    "\n",
    "In the cell below, write a for loop that counts how frequently a given price point appears for the `above_average` dataset"
   ]
  },
  {
   "cell_type": "code",
   "execution_count": 18,
   "id": "verbal-peripheral",
   "metadata": {},
   "outputs": [
    {
     "data": {
      "text/plain": [
       "{'\\\\$': 74, '\\\\$\\\\$': 87, 'Unknown': 134, '\\\\$\\\\$\\\\$': 10, '\\\\$\\\\$\\\\$\\\\$': 1}"
      ]
     },
     "execution_count": 18,
     "metadata": {},
     "output_type": "execute_result"
    }
   ],
   "source": [
    "# Create an empty dictionary to store the counts for each price point\n",
    "abv_avg_prices = {}\n",
    "\n",
    "# Loop over the above average restaurants\n",
    "for restaurant in above_average:\n",
    "    if restaurant['price'] not in abv_avg_prices:\n",
    "        abv_avg_prices[restaurant['price']] = 1\n",
    "    else:\n",
    "        abv_avg_prices[restaurant['price']] += 1\n",
    "    \n",
    "abv_avg_prices"
   ]
  },
  {
   "cell_type": "code",
   "execution_count": 19,
   "id": "romantic-password",
   "metadata": {},
   "outputs": [],
   "source": [
    "assert type(abv_avg_prices) == dict\n",
    "assert len(abv_avg_prices) == 5\n",
    "assert '\\\\$\\\\$\\\\$\\\\$' in abv_avg_prices"
   ]
  },
  {
   "cell_type": "markdown",
   "id": "governing-resistance",
   "metadata": {},
   "source": [
    "**Now we will reapply the same process, but we will instead calculate the price point frequencies for the `below_average` dataset.**"
   ]
  },
  {
   "cell_type": "code",
   "execution_count": 20,
   "id": "banner-reward",
   "metadata": {},
   "outputs": [
    {
     "data": {
      "text/plain": [
       "{'\\\\$\\\\$': 88, '\\\\$': 128, 'Unknown': 19, '\\\\$\\\\$\\\\$': 12}"
      ]
     },
     "execution_count": 20,
     "metadata": {},
     "output_type": "execute_result"
    }
   ],
   "source": [
    "# Create an empty dictionary to store the counts for each price point\n",
    "\n",
    "blw_avg_prices = {}\n",
    "# Loop over the below average restaurants\n",
    "for restaurant in below_average:\n",
    "    if restaurant['price'] not in blw_avg_prices:\n",
    "        blw_avg_prices[restaurant['price']] = 1\n",
    "    else:\n",
    "        blw_avg_prices[restaurant['price']] += 1\n",
    "    \n",
    "blw_avg_prices"
   ]
  },
  {
   "cell_type": "code",
   "execution_count": 21,
   "id": "filled-absolute",
   "metadata": {},
   "outputs": [],
   "source": [
    "assert type(blw_avg_prices) == dict\n",
    "assert len(blw_avg_prices) == 4\n",
    "assert '\\\\$' in blw_avg_prices"
   ]
  },
  {
   "cell_type": "markdown",
   "id": "departmental-attitude",
   "metadata": {},
   "source": [
    "## Create a bar plot that sets the frequency of each price point as the y axis"
   ]
  },
  {
   "cell_type": "code",
   "execution_count": 22,
   "id": "seeing-extension",
   "metadata": {},
   "outputs": [
    {
     "data": {
      "image/png": "[encoded data removed]",
      "text/plain": [
       "<Figure size 1080x432 with 2 Axes>"
      ]
     },
     "metadata": {
      "needs_background": "light"
     },
     "output_type": "display_data"
    }
   ],
   "source": [
    "# Create a matplotlib subplot with 1 row and 2 columns\n",
    "fig, ax = plt.subplots(1,2, figsize=(15,6))\n",
    "\n",
    "# Isolate keys of the below average price count dictionary\n",
    "# This will be the x-axis\n",
    "blw_avg_x_axis = blw_avg_prices.keys()\n",
    "ax[0].set_xlabel(\"Price Point\")\n",
    "\n",
    "# Isolate the values of the below average price count dictionary\n",
    "# This will be the y-axis\n",
    "\n",
    "blw_avg_y_axis = blw_avg_prices.values()\n",
    "ax[0].set_ylabel(\"Number of Restaurants\")\n",
    "\n",
    "\n",
    "# Plot the below average price point counts as a bar plot on the first axis\n",
    "ax[0].bar(blw_avg_x_axis, blw_avg_y_axis)\n",
    "\n",
    "# Set the title for the first axis to the string \"Below Average\"\n",
    "ax[0].set_title(\"Below Average\")\n",
    "\n",
    "# Isolate keys of the above average price count dictionary. This will be the x-axis\n",
    "abv_avg_x_axis = abv_avg_prices.keys()\n",
    "ax[1].set_xlabel(\"Price Point\")\n",
    "\n",
    "# Isolate the values of the above average price count dictionary This will be the y-axis\n",
    "abv_avg_y_axis = abv_avg_prices.values()\n",
    "ax[1].set_ylabel(\"Number of Restaurants\")\n",
    "\n",
    "# Plot the above average price counts as a bar plot on the second axis\n",
    "ax[1].bar(abv_avg_x_axis, abv_avg_y_axis)\n",
    "\n",
    "# Set the title for the second axis to  the string 'Above Average'\n",
    "ax[1].set_title(\"Above Average\");\n"
   ]
  },
  {
   "cell_type": "markdown",
   "id": "descending-attribute",
   "metadata": {},
   "source": [
    "**Interpretation**"
   ]
  },
  {
   "cell_type": "markdown",
   "id": "moderate-thong",
   "metadata": {},
   "source": [
    "The client believes that most above average restaurants have a price point of $$. According to the data, most above average restaurants have an unknown price point."
   ]
  },
  {
   "cell_type": "markdown",
   "id": "occupied-westminster",
   "metadata": {},
   "source": [
    "## Analyzing restaurant location\n",
    "\n",
    "In the cell below, we will use the `isolate_values` function to isolate `longitude` and `latitude` for above and below average restaurants."
   ]
  },
  {
   "cell_type": "code",
   "execution_count": 23,
   "id": "maritime-comparative",
   "metadata": {},
   "outputs": [
    {
     "data": {
      "image/png": "[encoded data removed]",
      "text/plain": [
       "<Figure size 1080x432 with 1 Axes>"
      ]
     },
     "metadata": {
      "needs_background": "light"
     },
     "output_type": "display_data"
    }
   ],
   "source": [
    "# Isolate longitude for above average restaurants\n",
    "abv_avg_lon = isolate_values(above_average, 'longitude')\n",
    "\n",
    "# Isolate latitude for above average restaurants\n",
    "abv_avg_lat = isolate_values(above_average, 'latitude')\n",
    "\n",
    "# Isolate longitude for below average restaurants\n",
    "blw_avg_lon = isolate_values(below_average, 'longitude')\n",
    "\n",
    "# Isolate latitude for below average restaurants\n",
    "blw_avg_lat = isolate_values(below_average, 'latitude')\n",
    "\n",
    "plt.figure(figsize=(15,6))\n",
    "plt.scatter(abv_avg_lon, abv_avg_lat, label='Above')\n",
    "plt.scatter(blw_avg_lon, blw_avg_lat, label='Below')\n",
    "plt.legend();"
   ]
  },
  {
   "cell_type": "markdown",
   "id": "intensive-palestine",
   "metadata": {},
   "source": [
    "## Removing the outlier\n",
    "\n",
    "There is one restaurant in the above average dataset with a location dramatically west and south of all other observations. Let's remove that restaurant from the above average dataset and regenerate the scatter plot."
   ]
  },
  {
   "cell_type": "code",
   "execution_count": 24,
   "id": "rocky-wrong",
   "metadata": {},
   "outputs": [],
   "source": [
    "no_outliers = []\n",
    "\n",
    "# Create an empty list to append the outlier\n",
    "outlier = []\n",
    "\n",
    "# Loop over every restaurant in the above average dataset\n",
    "for restaurant in above_average:\n",
    "    \n",
    "    # Isolate the restaurant's longitude\n",
    "    if restaurant['longitude'] > -90:\n",
    "    # Check if the longitude value is greater than the integer -90\n",
    "        no_outliers.append(restaurant)\n",
    "        # Append the restaurant to the no_outliers list\n",
    "\n",
    "    else:\n",
    "        outlier.append(restaurant)\n",
    "    # If longitude is less than -90 it is an outlier and should be appended to the outlier list"
   ]
  },
  {
   "cell_type": "code",
   "execution_count": 25,
   "id": "crude-medicine",
   "metadata": {},
   "outputs": [],
   "source": [
    "assert type(no_outliers) == list\n",
    "assert type(outlier) == list\n",
    "assert len(no_outliers) == len(above_average) - 1\n",
    "assert len(outlier) == 1"
   ]
  },
  {
   "cell_type": "markdown",
   "id": "colored-retreat",
   "metadata": {},
   "source": [
    "Now we will regenerate the longitude and latitude for above average restaurants using the `no_outliers` dataset, and regenerate the scatter plot!"
   ]
  },
  {
   "cell_type": "code",
   "execution_count": 35,
   "id": "black-tunnel",
   "metadata": {},
   "outputs": [
    {
     "data": {
      "image/png": "[encoded data removed]",
      "text/plain": [
       "<Figure size 1080x432 with 1 Axes>"
      ]
     },
     "metadata": {
      "needs_background": "light"
     },
     "output_type": "display_data"
    }
   ],
   "source": [
    "abv_avg_lon = isolate_values(no_outliers, 'longitude')\n",
    "abv_avg_lat = isolate_values(no_outliers, 'latitude')\n",
    "\n",
    "plt.figure(figsize=(15,6))\n",
    "sns.scatterplot(x=abv_avg_lon, y=abv_avg_lat, label=\"Above Average\")\n",
    "sns.scatterplot(x=blw_avg_lon, y=blw_avg_lat, label=\"Below Average\")\n",
    "plt.title(\"Longitude and Latitude, No Outliers\");"
   ]
  },
  {
   "cell_type": "markdown",
   "id": "everyday-president",
   "metadata": {},
   "source": [
    "## Plot the distribution of latitude and longitude\n"
   ]
  },
  {
   "cell_type": "code",
   "execution_count": 39,
   "id": "empirical-contract",
   "metadata": {},
   "outputs": [
    {
     "data": {
      "image/png": "[encoded data removed]",
      "text/plain": [
       "<Figure size 1080x360 with 2 Axes>"
      ]
     },
     "metadata": {
      "needs_background": "light"
     },
     "output_type": "display_data"
    }
   ],
   "source": [
    "# Create a matplotlib subplot with 1 row and 2 columns\n",
    "fig, (ax1,ax2) = plt.subplots(figsize=(15,5), ncols=2)\n",
    "\n",
    "# Plot a histogram of above average longitude\n",
    "# on the first subplot axis. Set alpha to .6\n",
    "# Set label to the string \"Above\"\n",
    "ax1.hist(abv_avg_lon, alpha=0.6, label=\"Above\",bins=20)\n",
    "\n",
    "# Plot a histogram of below average longitude\n",
    "# on the first subplot axis. Set alpha to .6\n",
    "# Set label to the string \"Below\"\n",
    "ax1.hist(blw_avg_lon, alpha=0.6, label=\"Below\", bins=20)\n",
    "\n",
    "# Set the title for the first subplot axis\n",
    "# to the string \"Longitude\"\n",
    "ax1.set_title(\"Longitude\")\n",
    "ax1.legend()\n",
    "\n",
    "\n",
    "# Plot a histogram of above average latitude\n",
    "# on the second subplot axis. Set alpha to .6\n",
    "# Set label to the string \"Above\"\n",
    "ax2.hist(abv_avg_lat, alpha=0.6, label=\"Above\", bins=20)\n",
    "\n",
    "\n",
    "# Plot a histogram of below average latitude\n",
    "# on the second subplot axis. Set alpha to .6\n",
    "# Set label to the string \"Below\"\n",
    "ax2.hist(blw_avg_lat, alpha=0.6, label=\"Below\", bins=20)\n",
    "\n",
    "\n",
    "# Set the title for the second subplot axis\n",
    "# to the string \"Latitude\"\n",
    "ax2.set_title(\"Latitude\")\n",
    "ax2.legend();\n"
   ]
  },
  {
   "cell_type": "markdown",
   "id": "durable-royalty",
   "metadata": {},
   "source": [
    "**Interpret the above visualization. How does it relate to your client's claims?**"
   ]
  },
  {
   "cell_type": "markdown",
   "id": "optimum-american",
   "metadata": {},
   "source": [
    "The client has been told that above average restaurants are usually further east and below average are usually further west, but that the biggest difference is whether the restaurant is on the north or south side. Based on our data, there is a similar amount of above and below average restaurants in the West. However there is more above average restaurants in the North than below average restaurants."
   ]
  },
  {
   "cell_type": "markdown",
   "id": "extra-lithuania",
   "metadata": {},
   "source": [
    "## Find the most common zipcode for above average restaurants\n",
    "\n",
    "In the cell below, loop over the restaurants in the above average dataset and count the frequency of the restaurants zipcode."
   ]
  },
  {
   "cell_type": "code",
   "execution_count": 40,
   "id": "afraid-appendix",
   "metadata": {},
   "outputs": [],
   "source": [
    "abv_avg_zip_cnts = {}\n",
    "# Loop over the above average dataset\n",
    "\n",
    "for restaurant in above_average:\n",
    "    # Isolate the restaurant's zipcode \n",
    "    # Check if the zipcode is a key in the dictionary\n",
    "    if restaurant['location']['zip_code'] not in abv_avg_zip_cnts:\n",
    "        # Add one to the zipcode's value\n",
    "        abv_avg_zip_cnts[restaurant['location']['zip_code']] = 1\n",
    "        \n",
    "    # If the zipcode is not a key\n",
    "    # add it to the dictionary with a value of 1\n",
    "    else:\n",
    "        abv_avg_zip_cnts[restaurant['location']['zip_code']] += 1"
   ]
  },
  {
   "cell_type": "code",
   "execution_count": 41,
   "id": "subtle-outside",
   "metadata": {},
   "outputs": [],
   "source": [
    "assert type(abv_avg_zip_cnts) == dict\n",
    "assert len(abv_avg_zip_cnts) == 104 or len(abv_avg_zip_cnts) == 103\n",
    "assert '10012' in abv_avg_zip_cnts"
   ]
  },
  {
   "cell_type": "markdown",
   "id": "comparative-ribbon",
   "metadata": {},
   "source": [
    "Now we are going to loop over the `abv_avg_zip_cnts` dictionary and find the zipcode with the largest count. "
   ]
  },
  {
   "cell_type": "code",
   "execution_count": 42,
   "id": "early-vertex",
   "metadata": {},
   "outputs": [
    {
     "name": "stdout",
     "output_type": "stream",
     "text": [
      "10014\n"
     ]
    }
   ],
   "source": [
    "most_frequent_zip = max(abv_avg_zip_cnts, key=abv_avg_zip_cnts.get)\n",
    "print(most_frequent_zip)"
   ]
  },
  {
   "cell_type": "markdown",
   "id": "careful-vegetarian",
   "metadata": {},
   "source": [
    "**Interpretation of the results**"
   ]
  },
  {
   "cell_type": "markdown",
   "id": "auburn-division",
   "metadata": {},
   "source": [
    "The client believes that the 10012 zipcode in New York City is the best place to open a restaurant. Based on our findings, the most common above average zip code is 10014."
   ]
  },
  {
   "cell_type": "markdown",
   "id": "brave-venture",
   "metadata": {},
   "source": [
    "## Final Analysis"
   ]
  },
  {
   "cell_type": "markdown",
   "id": "effective-disclaimer",
   "metadata": {},
   "source": [
    "1. The client wants to know if 3 as an average rating holds true in New York City. Based on the histogram above, 4.0 rating is the most frequent restaurant rating in New York.\n",
    "\n",
    "2. The client claims that restaurants with higher review counts are more successful. Based on the data, below average restaurants have higher review counts than their above average counterpart. The data doesn't support their claims that a higher review count will equal to a above average rating.\n",
    "\n",
    "3. The client believes that most above average restaurants have a price point of $$. According to the data, most above average restaurants have an unknown price point.\n",
    "\n",
    "4. The client has been told that above average restaurants are usually further east and below average are usually further west, but that the biggest difference is whether the restaurant is on the north or south side. Based on our data, there is a similar amount of above and below average restaurants in the West. However there is more above average restaurants in the North than below average restaurants.\n",
    "\n",
    "5. The client believes that the 10012 zipcode in New York City is the best place to open a restaurant. Based on our findings, the most common above average zip code is 10014.\n"
   ]
  }
 ],
 "metadata": {
  "kernelspec": {
   "display_name": "Python 3",
   "language": "python",
   "name": "python3"
  },
  "language_info": {
   "codemirror_mode": {
    "name": "ipython",
    "version": 3
   },
   "file_extension": ".py",
   "mimetype": "text/x-python",
   "name": "python",
   "nbconvert_exporter": "python",
   "pygments_lexer": "ipython3",
   "version": "3.8.8"
  }
 },
 "nbformat": 4,
 "nbformat_minor": 5
}
